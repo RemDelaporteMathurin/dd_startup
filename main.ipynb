{
 "cells": [
  {
   "cell_type": "markdown",
   "id": "dfbae427",
   "metadata": {},
   "source": [
    "# Calculate the reaction rates for the primary reactions, as well as the main secondary reactions"
   ]
  },
  {
   "cell_type": "code",
   "execution_count": 1,
   "id": "9ed9da6b",
   "metadata": {},
   "outputs": [],
   "source": [
    "\n",
    "from utils import *\n",
    "import numpy as np\n",
    "import matplotlib.pyplot as plt"
   ]
  },
  {
   "cell_type": "markdown",
   "id": "c595cfb8",
   "metadata": {},
   "source": [
    "# Calculate Startup Time and Net Power Loss"
   ]
  },
  {
   "cell_type": "code",
   "execution_count": 2,
   "id": "3a6b2139",
   "metadata": {},
   "outputs": [],
   "source": [
    "# Input Data\n",
    "V_plasma = 150 * unit.m**3  # Plasma volume [m^3]\n",
    "n_e_avg = 1.7e20 * unit.m**-3  # Average electron density [1/m^3]\n",
    "n_D = n_e_avg  # Deuterium density, same as electron density initially [1/m^3]\n",
    "#Pf_DT = 1000 * unit.MW  # Fusion power for DT reactor [MW]\n",
    "T_e_avg = 14 * unit.keV  # Average electron temperature [keV]\n",
    "I_ST = 3 * unit.kg  # Inventory target [kg]\n",
    "\n",
    "# PARAMETERS FOR THE FUSION REACTION\n",
    "tau_p_T = 1 * unit.s  # Tritium confinement time [s]\n",
    "tau_p_He3 = 1 * unit.s # He3 confinement time [s]\n",
    "\n",
    "# PARAMETERS FOR THE TRITIUM PRODUCTION\n",
    "TBR = 1.15  # Tritium breeding ratio for DT neutrons [-]\n",
    "TBR_DDn = 1  # Tritium breeding ratio for DD neutrons [-]\n",
    "\n",
    "# PARAMETERS FOR THE NET POWER LOSS\n",
    "eta_th = 0.3  # Thermal efficiency of the reactor [-]\n",
    "Q = 9  # Fusion gain factor [-] Q = (Pfus-Paux)/Paux\n",
    "P_aux = 100 * unit.MW  # Auxiliary heating power [MW]\n",
    "Cost_per_MWh = 0.25/unit('kWh') # [USD] is the cost of electricity"
   ]
  },
  {
   "cell_type": "code",
   "execution_count": 3,
   "id": "881ac83b",
   "metadata": {},
   "outputs": [
    {
     "name": "stdout",
     "output_type": "stream",
     "text": [
      "Reaction Rates:\n",
      "R_DDp: 2.62×10¹⁸ 1/s\n",
      "R_DDn: 2.78×10¹⁸ 1/s\n",
      "R_DT: 1.03×10¹⁷ 1/s\n",
      "R_DHe3: 4.22×10¹⁴ 1/s\n",
      "R_tot: 5.50×10¹⁸ 1/s\n",
      "density_T: 1.68×10¹⁶ 1/m³\n",
      "density_He3: 1.85×10¹⁶ 1/m³\n",
      "prob_DDp: 4.76×10⁻¹\n",
      "prob_DDn: 5.05×10⁻¹\n",
      "prob_DT: 1.87×10⁻²\n",
      "prob_DHe3: 7.66×10⁻⁵\n",
      "prob_tot: 1.00×10⁰\n"
     ]
    }
   ],
   "source": [
    "# Calculate the reaction rates\n",
    "DD_reaction_rates = calculate_reaction_rates_DD(n_D, T_e_avg, V_plasma, tau_p_T, tau_p_He3)\n",
    "# Print the dictionary in the desired format with scientific notation and pretty units\n",
    "print(\"Reaction Rates:\")\n",
    "for key, value in DD_reaction_rates.items():\n",
    "    if hasattr(value, \"magnitude\"):  # Check if the value is a pint.Quantity\n",
    "        print(f\"{key}: {value:.2e~P}\")\n",
    "    else:\n",
    "        print(f\"{key}: {value:.2e}\")"
   ]
  },
  {
   "cell_type": "markdown",
   "id": "097f56c0",
   "metadata": {},
   "source": [
    "## Estimate Tritium production"
   ]
  },
  {
   "cell_type": "code",
   "execution_count": 4,
   "id": "1ebc4caa",
   "metadata": {},
   "outputs": [
    {
     "name": "stdout",
     "output_type": "stream",
     "text": [
      "tritium production rates:\n",
      "     2.62×10¹⁸ 1/s: tritum produced from the DDp channel\n",
      "     2.52×10¹⁸ 1/s: tritium produced in the DDp channel and not burnt\n",
      "     2.52×10¹⁸ 1/s from the diffusion of tritium (should be equal to the tritium produced in the DDp channel and not burnt)\n",
      "     1.18×10¹⁷ 1/s from the 14.1 MeV neutrons produced in the DT subchannel and bred (TBR = 1.15)\n",
      "     2.78×10¹⁸ 1/s from the 2.45 MeV neutrons produced in the DDn channel and bred (TBR_DDn = 1)\n",
      "     --------------\n",
      "     5.41×10¹⁸ 1/s total rate of tritium production in the system\n",
      "density of tritium: 1.68×10¹⁶ 1/m³ [1/m^3]\n"
     ]
    }
   ],
   "source": [
    "# calculate the tritium production rates\n",
    "Tdot_DD_plasma = DD_reaction_rates[\"R_DDp\"] # [1/s] is the rate of tritium production due to DDp fusions\n",
    "Tdot_fusion = DD_reaction_rates[\"R_DDp\"] - DD_reaction_rates[\"R_DT\"] # [1/s] rate of tritium production due to DDp fusions, considering the losses due to DT fusions\n",
    "Tdot_diff = V_plasma * DD_reaction_rates[\"density_T\"] / tau_p_T # [1/s] is the rate of tritium production due to diffusion of tritium in the breeding blanket\n",
    "Tdot_breedingDT = TBR * DD_reaction_rates[\"R_DT\"] # [1/s] is the rate of tritium production due to DT neutrons interacting with the breeding blanket\n",
    "Tdot_breedingDD = TBR_DDn * DD_reaction_rates[\"R_DDn\"] # [1/s] is the rate of tritium production due to DD neutrons interacting with the Li6 in the breeding blanket\n",
    "Tdot_tot = Tdot_fusion + Tdot_breedingDT + Tdot_breedingDD # [1/s] is the total rate of tritium production in the system\n",
    "\n",
    "\"\"\"\n",
    "            |----> He3 + n (2.45 MeV)\n",
    "            |            |--------------------> Tdot_breedingDD: tritium production due to DD neutrons interacting with the Li6 in the breeding blanket\n",
    "    D + D ->|\n",
    "      |     |----> T + p\n",
    "      |            |\n",
    "      |------------|---> D + T --> He4 + n (14.1 MeV)\n",
    "                   |                     |----> Tdot_breedingDT: tritium production due to DT neutrons interacting with the breeding blanket\n",
    "                   |\n",
    "                   |--------------------------> Tdot_fusion: tritium production due to DDp fusions, considering the losses due to DT neutrons (NB. It is assumed that all the Tritium that is not burnt in DT fusios can be extracted from the system)\n",
    "\"\"\"\n",
    "\n",
    "print(f\"tritium production rates:\\n\",\n",
    "      f\"    {Tdot_DD_plasma:.2e~P}: tritum produced from the DDp channel\\n\",\n",
    "      f\"    {Tdot_fusion:.2e~P}: tritium produced in the DDp channel and not burnt\\n\",\n",
    "      f\"    {Tdot_diff:.2e~P} from the diffusion of tritium (should be equal to the tritium produced in the DDp channel and not burnt)\\n\",\n",
    "      f\"    {Tdot_breedingDT:.2e~P} from the 14.1 MeV neutrons produced in the DT subchannel and bred (TBR = {TBR})\\n\",\n",
    "      f\"    {Tdot_breedingDD:.2e~P} from the 2.45 MeV neutrons produced in the DDn channel and bred (TBR_DDn = {TBR_DDn})\\n\",\n",
    "      f\"    --------------\\n\",\n",
    "      f\"    {Tdot_tot:.2e~P} total rate of tritium production in the system\")\n",
    "\n",
    "print(f\"density of tritium: {DD_reaction_rates['density_T']:.2e~P} [1/m^3]\")\n"
   ]
  },
  {
   "cell_type": "markdown",
   "id": "fbc86084",
   "metadata": {},
   "source": [
    "## Startup time\n",
    "the inventory of tritium is affected both by production  (Tdot_tot) and by losses due to decay  \n",
    "then I(t) = Tdot_tot/lambda (1-exp(-lambda*t))  \n",
    "and t_ST = -(1/lambda_T) * np.log(1 - (N_ST * lambda_T / Tdot_tot))                 # N_ST is I_ST in atoms instead of kg  \n",
    "\n",
    "### BE CAREFUL! the startup time may go to infinity if conditions are not well imposed"
   ]
  },
  {
   "cell_type": "code",
   "execution_count": 5,
   "id": "ad39e486",
   "metadata": {},
   "outputs": [
    {
     "name": "stdout",
     "output_type": "stream",
     "text": [
      "Tritium decay constant: 5.63×10⁻² 1/a\n",
      "Startup time: 1.23×10⁸ s (3.42×10⁴ h = 1.43×10³ d = 3.91×10⁰ a)\n"
     ]
    }
   ],
   "source": [
    "# the inventory of tritium is affected both by production  (Tdot_tot) and by losses due to decay\n",
    "# then I(t) = Tdot_tot/lambda (1-exp(-lambda*t))\n",
    "\n",
    "#find the time needed to reach the inventory target\n",
    "lambda_T = np.log(2) / ((12.32 * unit.year).to('s'))  # Tritium decay constant [1/s]\n",
    "print(f\"Tritium decay constant: {lambda_T.to('1/year'):.2e~P}\")\n",
    "# CALCULATE THE STARTUP TIME\n",
    "N_ST = I_ST/molecular_weight_T.to(\"kg/mol\")*N_A # [-] is the number of tritium atoms needed for startup (I_ST[g]/3.016[g/mol]*6.022e23[atoms/mol])\n",
    "lambda_T = np.log(2) / ((12.32 * unit.year).to('s'))  # Tritium decay constant [1/s]\n",
    "ratio = N_ST * lambda_T / Tdot_tot  # [-] is the ratio of the number of tritium atoms needed for startup to the total rate of tritium production\n",
    "if ratio >= 1:\n",
    "    startup_time = np.inf * unit.s # or np.nan if you prefer\n",
    "else:\n",
    "    startup_time = - (1/lambda_T) * np.log(1 - (ratio))  # Time to reach the inventory target [s]\n",
    "           \n",
    "\n",
    "# Print the startup time in different units using pint's conversion methods\n",
    "print(f\"Startup time: {startup_time:.2e~P} ({startup_time.to('hour'):.2e~P} = {startup_time.to('day'):.2e~P} = {startup_time.to('year'):.2e~P})\")"
   ]
  },
  {
   "cell_type": "code",
   "execution_count": 6,
   "id": "bafdc1aa",
   "metadata": {},
   "outputs": [
    {
     "name": "stdout",
     "output_type": "stream",
     "text": [
      "Startup time (old formula): 1.11×10⁸ s [s] = 3.07×10⁴ h = 1.28×10³ d = 3.51×10⁰ a\n"
     ]
    }
   ],
   "source": [
    "startup_time_old = N_ST / Tdot_tot  # Old formula for startup time [s] - does not consider decay\n",
    "print(f\"Startup time (old formula): {startup_time_old:.2e~P} [s] = {startup_time_old.to('hour'):.2e~P} = {startup_time_old.to('day'):.2e~P} = {startup_time_old.to('year'):.2e~P}\")"
   ]
  },
  {
   "cell_type": "markdown",
   "id": "c108106e",
   "metadata": {},
   "source": [
    "## Calculate Fusion Power"
   ]
  },
  {
   "cell_type": "code",
   "execution_count": 7,
   "id": "6548a523",
   "metadata": {},
   "outputs": [
    {
     "name": "stdout",
     "output_type": "stream",
     "text": [
      "Pf_DD_tot: 3.52 MW \n",
      "(of which 3.23 MW is from DD reactions, 0.29 MW is from DT sub-reactions and 0.00 MW is from DHe3 sub-reactions)\n",
      "Pf_DT: 735.10 MW\n",
      "(considering a 50%D-50%T plasma and using the formula (n_e_avg/2)^2 * <sigmav>_DT * E_DT * V_plasma)\n"
     ]
    }
   ],
   "source": [
    "# Calculate the Reactor Power for DD reactions\n",
    "\n",
    "Pf_DD = DD_reaction_rates[\"R_DDp\"]*E_DDp + DD_reaction_rates[\"R_DDn\"]*E_DDn # [W] is the power produced by DD reactions\n",
    "Pf_DD_DT = DD_reaction_rates[\"R_DT\"]*E_DT # [W] is the power produced by DT sub-reactions\n",
    "Pf_DD_DHe3 = DD_reaction_rates[\"R_DHe3\"]*E_DHe3 # [W] is the power produced by DHe3 sub-reactions\n",
    "Pf_DD_tot = Pf_DD.to('MW') + Pf_DD_DT.to('MW') + Pf_DD_DHe3.to('MW') # [W] is the total power produced in a DD reactor\n",
    "print(f\"Pf_DD_tot: {Pf_DD_tot:.2f~P} \\n(of which {Pf_DD.to('MW'):.2f~P} is from DD reactions, {Pf_DD_DT.to('MW'):.2f~P} is from DT sub-reactions and {Pf_DD_DHe3.to('MW'):.2f~P} is from DHe3 sub-reactions)\")\n",
    "\n",
    "Pf_DT = fusion_power_50D50T(n_e_avg, T_e_avg, E_DT, V_plasma) # [W] is the power produced by DT reactions (the 1e-6 factor is needed to convert <sigmav> from cm^3/s to m^3/s)\n",
    "# N.B. this is the total fusion power of a 50%D-50%T plasma in the selected conditions - it may not correspond to the expected 1000 MW power due to the use of average values of T and n_e\n",
    "print(f\"Pf_DT: {Pf_DT.to('MW'):.2f~P}\\n(considering a 50%D-50%T plasma and using the formula (n_e_avg/2)^2 * <sigmav>_DT * E_DT * V_plasma)\")\n"
   ]
  },
  {
   "cell_type": "markdown",
   "id": "a7e2f15d",
   "metadata": {},
   "source": [
    "## Calculate net power loss"
   ]
  },
  {
   "cell_type": "code",
   "execution_count": 8,
   "id": "ea91bbaf",
   "metadata": {},
   "outputs": [
    {
     "name": "stdout",
     "output_type": "stream",
     "text": [
      "P_e_net_DD: -99.03 MW, Q_DD: -0.97, P_aux(imposed): 100.00 MW\n",
      "P_e_net_DDQ: 0.65 MW, Q(imposed): 9, P_aux: 0.32 MW\n",
      "P_e_net_DT: 120.53 MW, Q_DT: 6.35, P_aux(imposed): 100.00 MW\n",
      "P_e_net_DTQ: 147.02 MW, Q(imposed): 9, P_aux: 73.51 MW\n",
      "E_lost: 2.71×10¹⁰ MJ\n",
      "$ lost: 1879064233.31 USD = 1.88 billion USD\n"
     ]
    }
   ],
   "source": [
    "\"\"\"\n",
    "The net power may be calculated either by fixing the Q or the P_aux\n",
    "As can be expected, imposing an advantageous Q results in a lower P_aux\n",
    "Fixing P_aux may be a more realistich approach, as it is a more direct way to control the reactor power\n",
    "\"\"\"\n",
    "\n",
    "P_e_net_DD, Q_DD = calculate_P_e_net_Paux(Pf_DD, P_aux, eta_th) # [W] is the net electrical power produced by the reactor\n",
    "P_e_net_DDQ, P_auxDDQ = calculate_P_e_net_Q(Pf_DD, Q, eta_th) # [W] is the net electrical power produced by the reactor\n",
    "P_e_net_DT, Q_DT = calculate_P_e_net_Paux(Pf_DT, P_aux, eta_th) # [W] is the net electrical power produced by the reactor\n",
    "P_e_net_DTQ, P_auxDTQ = calculate_P_e_net_Q(Pf_DT, Q, eta_th) # [W] is the net electrical power produced by the reactor\n",
    "print(f\"P_e_net_DD: {P_e_net_DD.to('MW'):.2f~P}, Q_DD: {Q_DD.to(''):.2f~P}, P_aux(imposed): {P_aux.to('MW'):.2f~P}\")\n",
    "print(f\"P_e_net_DDQ: {P_e_net_DDQ.to('MW'):.2f~P}, Q(imposed): {Q}, P_aux: {P_auxDDQ.to('MW'):.2f~P}\")\n",
    "print(f\"P_e_net_DT: {P_e_net_DT.to('MW'):.2f~P}, Q_DT: {Q_DT.to(''):.2f~P}, P_aux(imposed): {P_aux.to('MW'):.2f~P}\")\n",
    "print(f\"P_e_net_DTQ: {P_e_net_DTQ.to('MW'):.2f~P}, Q(imposed): {Q}, P_aux: {P_auxDTQ.to('MW'):.2f~P}\")\n",
    "\n",
    "\n",
    "# Condsider P_aux fixed for both the DD and DT reactions\n",
    "E_lost = np.abs(P_e_net_DD*startup_time - P_e_net_DT*startup_time) # [J] is the energy lost during the startup time operation in DD\n",
    "\n",
    "print(f\"E_lost: {E_lost.to('MJ'):.2e~P}\")\n",
    "\n",
    "Dollar_lost = Cost_per_MWh.to('1/J') * E_lost # [USD] is the cost of the lost energy during the startup time operation in DD\n",
    "print(f\"$ lost: {Dollar_lost:.2f~P} USD = {Dollar_lost/1e9:.2f~P} billion USD\")"
   ]
  },
  {
   "cell_type": "markdown",
   "id": "6e0c04cb",
   "metadata": {},
   "source": [
    "# Use profiles to estimate the fusion power more precisely  \n"
   ]
  },
  {
   "cell_type": "code",
   "execution_count": 9,
   "id": "1446e9df",
   "metadata": {},
   "outputs": [
    {
     "name": "stdout",
     "output_type": "stream",
     "text": [
      "Volume-averaged profile: 1.40×10¹ keV\n",
      "Volume-averaged profile: 1.70×10²⁰ 1/m³\n"
     ]
    },
    {
     "ename": "AttributeError",
     "evalue": "'tuple' object has no attribute 'to'",
     "output_type": "error",
     "traceback": [
      "\u001b[0;31m---------------------------------------------------------------------------\u001b[0m",
      "\u001b[0;31mAttributeError\u001b[0m                            Traceback (most recent call last)",
      "Cell \u001b[0;32mIn[9], line 12\u001b[0m\n\u001b[1;32m      9\u001b[0m ax1 \u001b[38;5;241m=\u001b[39m plt\u001b[38;5;241m.\u001b[39mgca()\n\u001b[1;32m     10\u001b[0m ax2 \u001b[38;5;241m=\u001b[39m ax1\u001b[38;5;241m.\u001b[39mtwinx()\n\u001b[0;32m---> 12\u001b[0m ax1\u001b[38;5;241m.\u001b[39mplot(x, T_e\u001b[38;5;241m.\u001b[39mto(\u001b[38;5;124m'\u001b[39m\u001b[38;5;124mkeV\u001b[39m\u001b[38;5;124m'\u001b[39m)\u001b[38;5;241m.\u001b[39mmagnitude, label\u001b[38;5;241m=\u001b[39m\u001b[38;5;124m'\u001b[39m\u001b[38;5;124mT_e (keV)\u001b[39m\u001b[38;5;124m'\u001b[39m, color\u001b[38;5;241m=\u001b[39m\u001b[38;5;124m'\u001b[39m\u001b[38;5;124mred\u001b[39m\u001b[38;5;124m'\u001b[39m)\n\u001b[1;32m     13\u001b[0m ax2\u001b[38;5;241m.\u001b[39mplot(x, n_D\u001b[38;5;241m.\u001b[39mto(\u001b[38;5;124m'\u001b[39m\u001b[38;5;124m1/m^3\u001b[39m\u001b[38;5;124m'\u001b[39m)\u001b[38;5;241m.\u001b[39mmagnitude, label\u001b[38;5;241m=\u001b[39m\u001b[38;5;124m'\u001b[39m\u001b[38;5;124mn_D (1/m^3)\u001b[39m\u001b[38;5;124m'\u001b[39m, color\u001b[38;5;241m=\u001b[39m\u001b[38;5;124m'\u001b[39m\u001b[38;5;124mblue\u001b[39m\u001b[38;5;124m'\u001b[39m)\n\u001b[1;32m     15\u001b[0m ax1\u001b[38;5;241m.\u001b[39mset_xlabel(\u001b[38;5;124m'\u001b[39m\u001b[38;5;124mNormalized Minor Radius\u001b[39m\u001b[38;5;124m'\u001b[39m)\n",
      "\u001b[0;31mAttributeError\u001b[0m: 'tuple' object has no attribute 'to'"
     ]
    },
    {
     "data": {
      "image/png": "[encoded data removed]",
      "text/plain": [
       "<Figure size 1000x500 with 2 Axes>"
      ]
     },
     "metadata": {},
     "output_type": "display_data"
    }
   ],
   "source": [
    "points = 1000  # or your desired resolution\n",
    "x = np.linspace(0, 1, points)  # Normalized minor radius\n",
    "# use the T_e_profile disecretized to calculate the sigmavs\n",
    "T_e = pedestal_profile(x, value_center=25*unit.keV, value_ped=5.5*unit.keV, value_edge=0.01*unit.keV, transition_ratio=0.95)  # [keV] is the electron temperature profile\n",
    "n_D = pedestal_profile(x, value_center=2.15e20*unit.m**-3, value_ped=1.45e20*unit.m**-3, value_edge=1e19*unit.m**-3, transition_ratio=0.95)  # [1/m^3] is the deuterium density profile\n",
    "\n",
    "\n",
    "plt.figure(figsize=(10, 5))\n",
    "ax1 = plt.gca()\n",
    "ax2 = ax1.twinx()\n",
    "\n",
    "ax1.plot(x, T_e.to('keV').magnitude, label='T_e (keV)', color='red')\n",
    "ax2.plot(x, n_D.to('1/m^3').magnitude, label='n_D (1/m^3)', color='blue')\n",
    "\n",
    "ax1.set_xlabel('Normalized Minor Radius')\n",
    "ax1.set_ylabel('T_e (keV)', color='red')\n",
    "ax2.set_ylabel('n_D (1/m^3)', color='blue')\n",
    "\n",
    "ax1.tick_params(axis='y', labelcolor='red')\n",
    "ax2.tick_params(axis='y', labelcolor='blue')\n",
    "\n",
    "plt.title('T_e and n_D Profiles (Different Scales)')\n",
    "ax1.grid()\n",
    "plt.show()\n",
    "\n",
    "pdict = calculate_reaction_rates_DD(n_D, T_e, V_plasma, tau_p_T, tau_p_He3,  points)  # [1/s] is the reaction rate for DD reactions\n",
    "\n",
    "# Calculate the Reactor Power for DD reactions\n",
    "\n",
    "Pf_DD = pdict['R_DDp'] * E_DDp + pdict['R_DDn'] * E_DDn  # [W] is the power produced by DD reactions\n",
    "Pf_DD_DT = pdict['R_DT'] * E_DT  # [W] is the power produced by DT sub-reactions\n",
    "Pf_DD_DHe3 = pdict['R_DHe3'] * E_DHe3  # [W] is the power produced by DHe3 sub-reactions\n",
    "\n",
    "Pf_DD_tot = Pf_DD.to('MW') + Pf_DD_DT.to('MW') + Pf_DD_DHe3.to('MW')  # [W] is the total power produced in a DD reactor\n",
    "print(f\"Pf_DD_tot: {Pf_DD_tot:.2f~P} \\n(of which {Pf_DD.to('MW'):.2f~P} is from DD reactions, {Pf_DD_DT.to('MW'):.2f~P} is from DT sub-reactions and {Pf_DD_DHe3.to('MW'):.2f~P} is from DHe3 sub-reactions)\")\n",
    "\n",
    "\n",
    "n_e_DT = pedestal_profile(x, value_center=2.15e20*unit.m**-3, value_ped=1.45e20*unit.m**-3, value_edge=1e19*unit.m**-3, transition_ratio=0.95)  # [1/m^3] is the deuterium density profile\n",
    "pdict_DT = calculate_reaction_rates_DT(n_e_DT, T_e, V_plasma)  # [1/s] is the reaction rate for DD reactions\n",
    "\n",
    "# Calculate the Reactor Power for DT reactions\n",
    "Pf_DT = pdict_DT['R_DT'] * E_DT  # [W] is the power produced by DT reactions\n",
    "print(f\"Pf_DT: {Pf_DT.to('MW'):.2f~P} \")"
   ]
  }
 ],
 "metadata": {
  "kernelspec": {
   "display_name": "base",
   "language": "python",
   "name": "python3"
  },
  "language_info": {
   "codemirror_mode": {
    "name": "ipython",
    "version": 3
   },
   "file_extension": ".py",
   "mimetype": "text/x-python",
   "name": "python",
   "nbconvert_exporter": "python",
   "pygments_lexer": "ipython3",
   "version": "3.11.7"
  }
 },
 "nbformat": 4,
 "nbformat_minor": 5
}
