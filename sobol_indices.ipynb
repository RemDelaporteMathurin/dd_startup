{
 "cells": [
  {
   "cell_type": "code",
   "execution_count": 1,
   "id": "7e11385a",
   "metadata": {},
   "outputs": [],
   "source": [
    "from calculate_reaction_rates import *\n",
    "from sigmav_functions import *\n",
    "from power import *\n",
    "from units_and_constants import *\n",
    "import itertools\n",
    "import pprint\n",
    "import plotly.express as px\n",
    "import plotly.graph_objects as go\n",
    "import numpy as np\n",
    "from scipy.stats import sobol_indices, uniform"
   ]
  },
  {
   "cell_type": "markdown",
   "id": "be4ead28",
   "metadata": {},
   "source": [
    "Calculate the Sobol Indices for the following quantities:\n",
    "\n",
    "| Quantity           | Unit  |   | Quantity         | Unit  |\n",
    "|--------------------|-------|---|------------------|-------|\n",
    "| Tdot_fusion        | 1/s   |   | Pf_DD            | MW    |\n",
    "| Tdot_breedingDT    | 1/s   |   | Pf_DD_DT         | MW    |\n",
    "| Tdot_breedingDD    | 1/s   |   | Pf_DD_DHe3       | MW    |\n",
    "| Tdot_diff          | 1/s   |   | Pf_DD_tot        | MW    |\n",
    "| Tdot_tot           | 1/s   |   | Pf_DT            | MW    |\n",
    "| startup_time       | hour  |   | P_e_net_DD       | MW    |\n",
    "| Q_DD               | -     |   | P_e_net_DT       | MW    |\n",
    "| Q_DT               | -     |   | E_lost           | MJ    |\n",
    "| Dollar_lost        | USD   |   |                  |       |\n",
    "\n",
    "Varying these parameters in the following ranges:\n",
    "\n",
    "| Parameter         | Unit     | Range                |     | Parameter     | Unit     | Range                |\n",
    "|-------------------|----------|----------------------|-----|--------------|----------|----------------------|\n",
    "| V_plasma          | m³       | [1.00e+02,2.00e+03]  |     | TBR          | -        | [5.00e-01,1.30e+00]  |\n",
    "| tau_p_T           | s        | [1.00e-03,5.00e+00]  |     | TBR_DDn      | -        | [5.00e-01,1.00e+00]  |\n",
    "| tau_p_He3         | s        | [1.00e-03,5.00e+00]  |     | P_aux        | MW       | [1.00e-01,1.00e+00]  |\n",
    "| n_e_avg           | m⁻³      | [1.00e+20,1.00e+21]  |     | eta_th       | -        | [1.00e-01,5.00e-01]  |\n",
    "| T_e_avg           | keV      | [1.00e+01,5.00e+01]  |     | Cost_per_kWh | USD/kWh  | [1.50e-01,5.00e-01]  |\n",
    "| I_ST              | kg       | [1.00e+00,5.00e+00]  |     |              |          |                      |\n"
   ]
  },
  {
   "cell_type": "markdown",
   "id": "805f1e7d",
   "metadata": {},
   "source": [
    "# Ranges:"
   ]
  },
  {
   "cell_type": "code",
   "execution_count": null,
   "id": "cbc740e4",
   "metadata": {},
   "outputs": [],
   "source": [
    "dists = [\n",
    "    uniform(loc=100, scale=2000-50),        # V_plasma (up to about twice of ITER volume - DEMO-like?)\n",
    "    uniform(loc=1e-3, scale=5-1e-3),        # tau_p_T\n",
    "    uniform(loc=1e-3, scale=5-1e-3),        # tau_p_He3\n",
    "    uniform(loc=1e20, scale=1e21-1e20),     # n_e_avg\n",
    "    uniform(loc=10, scale=50-10),           # T_e_avg\n",
    "    uniform(loc=1, scale=5-1),              # I_ST\n",
    "    uniform(loc=0.5, scale=1.3-0.5),        # TBR\n",
    "    uniform(loc=0.5, scale=1.0-0.5),        # TBR_DDn\n",
    "    uniform(loc=0.1, scale=1.0-0.1),        # P_aux\n",
    "    uniform(loc=0.1, scale=0.5-0.1),        # eta_th\n",
    "    uniform(loc=0.15, scale=0.5-0.15),      # Cost_per_kWh\n",
    "]"
   ]
  },
  {
   "cell_type": "code",
   "execution_count": null,
   "id": "045aed69",
   "metadata": {},
   "outputs": [],
   "source": [
    "def model_func(x):\n",
    "    # x shape: (d, n)\n",
    "    # Unpack parameters\n",
    "    V_PLASMA, TAU_P_T, TAU_P_HE3, N_E_AVG, T_E_AVG, I_ST, TBR_DT, TBR_DDN, P_AUX, ETA_TH, COST_PER_KWH = x\n",
    "    results = []\n",
    "    for i in range(x.shape[1]):\n",
    "        # Convert floats to Pint quantities\n",
    "        V_plasma = V_PLASMA[i] * unit.m**3\n",
    "        tau_p_T = TAU_P_T[i] * unit.s\n",
    "        tau_p_He3 = TAU_P_HE3[i] * unit.s\n",
    "        n_e_avg = N_E_AVG[i] * unit.m**-3\n",
    "        T_e_avg = T_E_AVG[i] * unit.keV\n",
    "        I_st = I_ST[i] * unit.kg\n",
    "        TBR = TBR_DT[i]\n",
    "        TBR_DDn = TBR_DDN[i]\n",
    "        P_aux = P_AUX[i] * unit.MW\n",
    "        eta_th = ETA_TH[i]\n",
    "        Cost_per_kwh = COST_PER_KWH[i] / unit('kWh')\n",
    "        n_D = n_e_avg\n",
    "        # Calculate the reaction rates\n",
    "        DD_reaction_rates = calculate_reaction_rates_DD(n_D, T_e_avg, V_plasma, tau_p_T, tau_p_He3)\n",
    "        # ESTIMATE TRITIUM PRODUCTION\n",
    "        # calculate the tritium production rates\n",
    "        Tdot_fusion = DD_reaction_rates[\"R_DDp\"] - DD_reaction_rates[\"R_DT\"] # [1/s] rate of tritium production due to DDp fusions, considering the losses due to DT neutrons (NB. It is assumed that all the Tritium that is not burnt in DT fusios can be extracted from the system)\n",
    "        Tdot_breedingDT = TBR * DD_reaction_rates[\"R_DT\"] # [1/s] is the rate of tritium production due to DT neutrons interacting with the breeding blanket\n",
    "        Tdot_breedingDD = TBR_DDn * DD_reaction_rates[\"R_DDn\"] # [1/s] is the rate of tritium production due to DD neutrons interacting with the Li6 in the breeding blanket\n",
    "        Tdot_diff = V_plasma * DD_reaction_rates[\"density_T\"] / tau_p_T # [1/s] is the rate of tritium production due to diffusion of tritium in the breeding blanket\n",
    "        Tdot_tot = Tdot_fusion + Tdot_breedingDT + Tdot_breedingDD # [1/s] is the total rate of tritium production in the system\n",
    "        # CALCULATE THE STARTUP TIME\n",
    "        N_ST = I_st/molecular_weight_T.to(\"kg/mol\")*N_A # [-] is the number of tritium atoms needed for startup (I_ST[g]/3.016[g/mol]*6.022e23[atoms/mol])\n",
    "        startup_time = N_ST / (Tdot_tot) # [s] is the time needed to produce the required amount of tritium for startup\n",
    "        # CALCULATE THE FUSION POWER\n",
    "        Pf_DD = DD_reaction_rates[\"R_DDp\"]*E_DDp + DD_reaction_rates[\"R_DDn\"]*E_DDn # [W] is the power produced by DD reactions\n",
    "        Pf_DD_DT = DD_reaction_rates[\"R_DT\"]*E_DT # [W] is the power produced by DT sub-reactions\n",
    "        Pf_DD_DHe3 = DD_reaction_rates[\"R_DHe3\"]*E_DHe3 # [W] is the power produced by DHe3 sub-reactions\n",
    "        Pf_DD_tot = Pf_DD.to('MW') + Pf_DD_DT.to('MW') + Pf_DD_DHe3.to('MW') # [W] is the total power produced in a DD reactor\n",
    "        Pf_DT = fusion_power_50D50T(n_e_avg, T_e_avg, E_DT, V_plasma) # [W] is the power produced by DT reactions (the 1e-6 factor is needed to convert <sigmav> from cm^3/s to m^3/s)\n",
    "        # CALCULATE THE NET ELECTRICAL POWER\n",
    "        \n",
    "        P_e_net_DD, Q_DD = calculate_P_e_net_Paux(Pf_DD, P_aux, eta_th) # [W] is the net electrical power produced by the reactor\n",
    "        P_e_net_DT, Q_DT = calculate_P_e_net_Paux(Pf_DT, P_aux, eta_th) # [W] is the net electrical power produced by the reactor\n",
    "\n",
    "        E_lost = np.abs(P_e_net_DD*startup_time - P_e_net_DT*startup_time) # [J] is the energy lost during the startup time operation in DD\n",
    "        Dollar_lost = Cost_per_kwh.to('1/J') * E_lost # [USD] is the cost of the lost energy during the startup time operation in DD\n",
    "        # Collect all values as magnitudes (convert units if needed)\n",
    "        row = [\n",
    "            Tdot_fusion.magnitude, \n",
    "            Tdot_breedingDT.magnitude, \n",
    "            Tdot_breedingDD.magnitude, \n",
    "            Tdot_diff.magnitude, \n",
    "            Tdot_tot.magnitude,\n",
    "            startup_time.to('hour').magnitude,  # or .magnitude for seconds\n",
    "            Pf_DD.to('MW').magnitude, \n",
    "            Pf_DD_DT.to('MW').magnitude, \n",
    "            Pf_DD_DHe3.to('MW').magnitude, \n",
    "            Pf_DD_tot.magnitude,\n",
    "            Pf_DT.to('MW').magnitude,\n",
    "            P_e_net_DD.to('MW').magnitude, \n",
    "            Q_DD, \n",
    "            P_e_net_DT.to('MW').magnitude, \n",
    "            Q_DT,\n",
    "            E_lost.to('MJ').magnitude, \n",
    "            Dollar_lost.magnitude\n",
    "        ]\n",
    "        results.append(row)\n",
    "    return np.array(results).T"
   ]
  },
  {
   "cell_type": "markdown",
   "id": "912ce868",
   "metadata": {},
   "source": [
    "# Sobol Indices"
   ]
  },
  {
   "cell_type": "code",
   "execution_count": 4,
   "id": "8cc93ed6",
   "metadata": {},
   "outputs": [],
   "source": [
    "d = len(dists)\n",
    "n = 2**12 # Must be a power of 2; increase for more accuracy\n",
    "\n",
    "# sobol_indices will generate the samples and call your function\n",
    "sobol = sobol_indices(\n",
    "    func=model_func,\n",
    "    n=n,\n",
    "    dists=dists,\n",
    "    method='saltelli_2010'\n",
    ")"
   ]
  },
  {
   "cell_type": "code",
   "execution_count": 8,
   "id": "6761f7bb",
   "metadata": {},
   "outputs": [],
   "source": [
    "#threshold to highlight most important indices\n",
    "threshold = 0.2"
   ]
  },
  {
   "cell_type": "markdown",
   "id": "1ab47766",
   "metadata": {},
   "source": [
    "# Sobol Indices fo $_lost"
   ]
  },
  {
   "cell_type": "code",
   "execution_count": 12,
   "id": "f0e94e8a",
   "metadata": {},
   "outputs": [],
   "source": [
    "Dollar_lost_index = -1"
   ]
  },
  {
   "cell_type": "code",
   "execution_count": 13,
   "id": "89efe41f",
   "metadata": {},
   "outputs": [
    {
     "name": "stdout",
     "output_type": "stream",
     "text": [
      "PARAMETER           V_PLASMA            TAU_P_T             TAU_P_HE3           N_E_AVG             T_E_AVG             I_ST                TBR                 TBR_DDN             P_AUX               ETA_TH              COST_PER_KWH        SUM                 \n",
      "RANGE               [1.00e+02,2.05e+03] [1.00e-03,5.00e+00] [1.00e-03,5.00e+00] [1.00e+20,1.00e+21] [1.00e+01,5.00e+01] [1.00e+00,5.00e+00] [5.00e-01,1.30e+00] [5.00e-01,1.00e+00] [1.00e-01,1.00e+00] [1.00e-01,5.00e-01] [1.50e-01,5.00e-01]                     \n",
      "FIRST-ORDER         -0.0000             0.0005              0.0000              0.0006              0.1244              0.2657              0.0044              0.0147              -0.0000             0.2625              0.1720              0.8448                \n",
      "TOTAL-ORDER         0.0000              0.0015              0.0000              0.0008              0.1831              0.3569              0.0078              0.0222              0.0000              0.3603              0.2449              1.1775                \n",
      "\n",
      "Parameters with first-order or total-order index > 0.2:\n",
      "    I_ST: first-order = 0.27, total-order = 0.36, range = [1.00e+00, 5.00e+00]\n",
      "    eta_th: first-order = 0.26, total-order = 0.36, range = [1.00e-01, 5.00e-01]\n",
      "    Cost_per_kWh: first-order = 0.17, total-order = 0.24, range = [1.50e-01, 5.00e-01]\n"
     ]
    }
   ],
   "source": [
    "cols = [\n",
    "    \"V_plasma\", \"tau_p_T\", \"tau_p_He3\", \"n_e_avg\", \"T_e_avg\", \"I_ST\",\n",
    "    \"TBR\", \"TBR_DDn\", \"P_aux\", \"eta_th\", \"Cost_per_kWh\"\n",
    "]\n",
    "\n",
    "col_width = 20\n",
    "\n",
    "# Prepare the ranges\n",
    "ranges = []\n",
    "for dist in dists:\n",
    "    lower = dist.kwds['loc']\n",
    "    upper = dist.kwds['loc'] + dist.kwds['scale']\n",
    "    ranges.append(f\"[{lower:.2e},{upper:.2e}]\".ljust(col_width))\n",
    "\n",
    "# Calculate sums\n",
    "first_order = sobol.first_order[Dollar_lost_index, :]\n",
    "total_order = sobol.total_order[Dollar_lost_index, :]\n",
    "sum_indices = first_order + total_order\n",
    "\n",
    "# Print header row (add SUM column)\n",
    "print(\"PARAMETER\".ljust(col_width) + \"\".join([name.upper().ljust(col_width) for name in cols]) + \"SUM\".ljust(col_width))\n",
    "# Print ranges row\n",
    "print(\"RANGE\".ljust(col_width) + \"\".join(ranges) + \"\".ljust(col_width))\n",
    "# Print first-order indices row\n",
    "print(\"FIRST-ORDER\".ljust(col_width) + \"\".join([(\"%.4f\" % v).ljust(col_width) for v in first_order]) + \"%.4f\".ljust(col_width) % np.sum(first_order))\n",
    "# Print total-order indices row\n",
    "print(\"TOTAL-ORDER\".ljust(col_width) + \"\".join([(\"%.4f\" % v).ljust(col_width) for v in total_order]) + \"%.4f\".ljust(col_width) % np.sum(total_order))\n",
    "\n",
    "print(f\"\\nParameters with first-order or total-order index > {threshold}:\")\n",
    "for i in range(len(sobol.first_order[Dollar_lost_index])):\n",
    "    first = sobol.first_order[Dollar_lost_index, i]\n",
    "    total = sobol.total_order[Dollar_lost_index, i]\n",
    "    print_name = cols[i] if i < len(cols) else f\"param_{i}\"\n",
    "    if first > threshold or total > threshold:\n",
    "        dist = dists[i]\n",
    "        lower = dist.kwds['loc']\n",
    "        upper = dist.kwds['loc'] + dist.kwds['scale']\n",
    "        print(f\"    {print_name}: first-order = {first:.2f}, total-order = {total:.2f}, range = [{lower:.2e}, {upper:.2e}]\")"
   ]
  },
  {
   "cell_type": "markdown",
   "id": "196d2182",
   "metadata": {},
   "source": [
    "# Sobol Indices fo t_startup"
   ]
  },
  {
   "cell_type": "code",
   "execution_count": 14,
   "id": "c5aae819",
   "metadata": {},
   "outputs": [],
   "source": [
    "t_startup_index = 5  # Index for startup time in the results"
   ]
  },
  {
   "cell_type": "code",
   "execution_count": 15,
   "id": "285dfba2",
   "metadata": {},
   "outputs": [
    {
     "name": "stdout",
     "output_type": "stream",
     "text": [
      "PARAMETER           V_PLASMA            TAU_P_T             TAU_P_HE3           N_E_AVG             T_E_AVG             I_ST                TBR                 TBR_DDN             P_AUX               ETA_TH              COST_PER_KWH        SUM                 \n",
      "RANGE               [1.00e+02,2.05e+03] [1.00e-03,5.00e+00] [1.00e-03,5.00e+00] [1.00e+20,1.00e+21] [1.00e+01,5.00e+01] [1.00e+00,5.00e+00] [5.00e-01,1.30e+00] [5.00e-01,1.00e+00] [1.00e-01,1.00e+00] [1.00e-01,5.00e-01] [1.50e-01,5.00e-01]                     \n",
      "FIRST-ORDER         0.0241              -0.0002             0.0000              0.0931              0.0405              0.0027              -0.0001             0.0007              0.0000              0.0000              0.0000              0.1609                \n",
      "TOTAL-ORDER         0.2825              0.0000              0.0000              0.4553              0.2217              0.0633              0.0002              0.0041              0.0000              0.0000              0.0000              1.0272                \n",
      "\n",
      "Parameters with first-order or total-order index > 0.2:\n",
      "    V_plasma: first-order = 0.02, total-order = 0.28, range = [1.00e+02, 2.05e+03]\n",
      "    n_e_avg: first-order = 0.09, total-order = 0.46, range = [1.00e+20, 1.00e+21]\n",
      "    T_e_avg: first-order = 0.04, total-order = 0.22, range = [1.00e+01, 5.00e+01]\n"
     ]
    }
   ],
   "source": [
    "cols = [\n",
    "    \"V_plasma\", \"tau_p_T\", \"tau_p_He3\", \"n_e_avg\", \"T_e_avg\", \"I_ST\",\n",
    "    \"TBR\", \"TBR_DDn\", \"P_aux\", \"eta_th\", \"Cost_per_kWh\"\n",
    "]\n",
    "\n",
    "col_width = 20\n",
    "\n",
    "# Prepare the ranges\n",
    "ranges = []\n",
    "for dist in dists:\n",
    "    lower = dist.kwds['loc']\n",
    "    upper = dist.kwds['loc'] + dist.kwds['scale']\n",
    "    ranges.append(f\"[{lower:.2e},{upper:.2e}]\".ljust(col_width))\n",
    "\n",
    "# Calculate sums\n",
    "first_order = sobol.first_order[t_startup_index, :]\n",
    "total_order = sobol.total_order[t_startup_index, :]\n",
    "sum_indices = first_order + total_order\n",
    "\n",
    "# Print header row (add SUM column)\n",
    "print(\"PARAMETER\".ljust(col_width) + \"\".join([name.upper().ljust(col_width) for name in cols]) + \"SUM\".ljust(col_width))\n",
    "# Print ranges row\n",
    "print(\"RANGE\".ljust(col_width) + \"\".join(ranges) + \"\".ljust(col_width))\n",
    "# Print first-order indices row\n",
    "print(\"FIRST-ORDER\".ljust(col_width) + \"\".join([(\"%.4f\" % v).ljust(col_width) for v in first_order]) + \"%.4f\".ljust(col_width) % np.sum(first_order))\n",
    "# Print total-order indices row\n",
    "print(\"TOTAL-ORDER\".ljust(col_width) + \"\".join([(\"%.4f\" % v).ljust(col_width) for v in total_order]) + \"%.4f\".ljust(col_width) % np.sum(total_order))\n",
    "\n",
    "print(f\"\\nParameters with first-order or total-order index > {threshold}:\")\n",
    "for i in range(len(sobol.first_order[t_startup_index])):\n",
    "    first = sobol.first_order[t_startup_index, i]\n",
    "    total = sobol.total_order[t_startup_index, i]\n",
    "    print_name = cols[i] if i < len(cols) else f\"param_{i}\"\n",
    "    if first > threshold or total > threshold:\n",
    "        dist = dists[i]\n",
    "        lower = dist.kwds['loc']\n",
    "        upper = dist.kwds['loc'] + dist.kwds['scale']\n",
    "        print(f\"    {print_name}: first-order = {first:.2f}, total-order = {total:.2f}, range = [{lower:.2e}, {upper:.2e}]\")"
   ]
  }
 ],
 "metadata": {
  "kernelspec": {
   "display_name": "base",
   "language": "python",
   "name": "python3"
  },
  "language_info": {
   "codemirror_mode": {
    "name": "ipython",
    "version": 3
   },
   "file_extension": ".py",
   "mimetype": "text/x-python",
   "name": "python",
   "nbconvert_exporter": "python",
   "pygments_lexer": "ipython3",
   "version": "3.11.7"
  }
 },
 "nbformat": 4,
 "nbformat_minor": 5
}
